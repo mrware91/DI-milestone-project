{
 "cells": [
  {
   "cell_type": "markdown",
   "metadata": {},
   "source": [
    "## bokehPlot.py"
   ]
  },
  {
   "cell_type": "code",
   "execution_count": 2,
   "metadata": {},
   "outputs": [
    {
     "name": "stdout",
     "output_type": "stream",
     "text": [
      "../data/quandlData2017 remembered!\n"
     ]
    }
   ],
   "source": [
    "from bokeh.layouts import gridplot\n",
    "from bokeh.plotting import figure, show, output_file\n",
    "from bokeh.embed import components\n",
    "from bokeh.io import output_notebook\n",
    "from bokeh.palettes import Category10\n",
    "\n",
    "import numpy as np\n",
    "import pandas as pd\n",
    "import Picklez\n",
    "\n",
    "# output_notebook()\n",
    "\n",
    "qdf = Picklez.load_obj('../data/quandlData2017')\n",
    "qdf['date'] = qdf['date'].apply(lambda x: pd.to_datetime(x))\n",
    "qdf = qdf.set_index('date')\n",
    "\n",
    "def generate_bokeh_plot(qdf,tickers,data_types):\n",
    "    p1 = figure(title=\"WIKI/PRICES\", toolbar_location=\"right\",background_fill_color=\"#E8DDCB\", x_axis_type=\"datetime\",\n",
    "                logo=None, tools=\"pan,wheel_zoom,box_zoom,reset,save\")\n",
    "\n",
    "    for m, ticker in enumerate(tickers):\n",
    "        for n, data_type in enumerate(data_types):\n",
    "            idxs=qdf['ticker']==ticker\n",
    "            p1.line(qdf.index[idxs],  qdf[idxs][data_type], \n",
    "                    color=Category10[10][n+(n+1)*m], line_width=2, alpha=0.7, \n",
    "                    legend=ticker+':'+data_type)    \n",
    "\n",
    "    p1.legend.location = \"top_left\"\n",
    "    p1.legend.background_fill_color = \"darkgrey\"\n",
    "    p1.xaxis.axis_label = 'time'\n",
    "    p1.yaxis.axis_label = ''\n",
    "    \n",
    "    return p1\n",
    "    \n",
    "# p = generate_bokeh_plot(qdf,['A','Z'],['open','close','high','low'])\n",
    "# show(p)\n"
   ]
  },
  {
   "cell_type": "code",
   "execution_count": 8,
   "metadata": {},
   "outputs": [],
   "source": [
    "qdf.memory_usage()\n",
    "\n",
    "qdf2 = qdf.drop(['volume','ex-dividend','split_ratio','adj_open','adj_high','adj_low','adj_close','adj_volume'],axis=1)\n",
    "\n",
    "qdf2.head(10)\n",
    "\n",
    "Picklez.save_obj(qdf2,'quandlData2017v2')"
   ]
  },
  {
   "cell_type": "code",
   "execution_count": 9,
   "metadata": {},
   "outputs": [
    {
     "data": {
      "text/html": [
       "<div>\n",
       "<style>\n",
       "    .dataframe thead tr:only-child th {\n",
       "        text-align: right;\n",
       "    }\n",
       "\n",
       "    .dataframe thead th {\n",
       "        text-align: left;\n",
       "    }\n",
       "\n",
       "    .dataframe tbody tr th {\n",
       "        vertical-align: top;\n",
       "    }\n",
       "</style>\n",
       "<table border=\"1\" class=\"dataframe\">\n",
       "  <thead>\n",
       "    <tr style=\"text-align: right;\">\n",
       "      <th></th>\n",
       "      <th>ticker</th>\n",
       "      <th>open</th>\n",
       "      <th>high</th>\n",
       "      <th>low</th>\n",
       "      <th>close</th>\n",
       "    </tr>\n",
       "    <tr>\n",
       "      <th>date</th>\n",
       "      <th></th>\n",
       "      <th></th>\n",
       "      <th></th>\n",
       "      <th></th>\n",
       "      <th></th>\n",
       "    </tr>\n",
       "  </thead>\n",
       "  <tbody>\n",
       "    <tr>\n",
       "      <th>2017-01-03</th>\n",
       "      <td>A</td>\n",
       "      <td>45.93</td>\n",
       "      <td>46.750</td>\n",
       "      <td>45.7400</td>\n",
       "      <td>46.49</td>\n",
       "    </tr>\n",
       "    <tr>\n",
       "      <th>2017-01-04</th>\n",
       "      <td>A</td>\n",
       "      <td>46.93</td>\n",
       "      <td>47.380</td>\n",
       "      <td>46.8162</td>\n",
       "      <td>47.10</td>\n",
       "    </tr>\n",
       "    <tr>\n",
       "      <th>2017-01-05</th>\n",
       "      <td>A</td>\n",
       "      <td>47.05</td>\n",
       "      <td>47.070</td>\n",
       "      <td>46.3550</td>\n",
       "      <td>46.54</td>\n",
       "    </tr>\n",
       "    <tr>\n",
       "      <th>2017-01-06</th>\n",
       "      <td>A</td>\n",
       "      <td>46.63</td>\n",
       "      <td>48.070</td>\n",
       "      <td>46.5600</td>\n",
       "      <td>47.99</td>\n",
       "    </tr>\n",
       "    <tr>\n",
       "      <th>2017-01-09</th>\n",
       "      <td>A</td>\n",
       "      <td>48.01</td>\n",
       "      <td>48.555</td>\n",
       "      <td>47.9050</td>\n",
       "      <td>48.14</td>\n",
       "    </tr>\n",
       "    <tr>\n",
       "      <th>2017-01-10</th>\n",
       "      <td>A</td>\n",
       "      <td>48.34</td>\n",
       "      <td>48.540</td>\n",
       "      <td>47.8200</td>\n",
       "      <td>48.10</td>\n",
       "    </tr>\n",
       "    <tr>\n",
       "      <th>2017-01-11</th>\n",
       "      <td>A</td>\n",
       "      <td>48.03</td>\n",
       "      <td>49.480</td>\n",
       "      <td>47.9500</td>\n",
       "      <td>49.25</td>\n",
       "    </tr>\n",
       "    <tr>\n",
       "      <th>2017-01-12</th>\n",
       "      <td>A</td>\n",
       "      <td>48.90</td>\n",
       "      <td>48.900</td>\n",
       "      <td>47.9800</td>\n",
       "      <td>48.52</td>\n",
       "    </tr>\n",
       "    <tr>\n",
       "      <th>2017-01-13</th>\n",
       "      <td>A</td>\n",
       "      <td>48.60</td>\n",
       "      <td>48.850</td>\n",
       "      <td>48.4100</td>\n",
       "      <td>48.69</td>\n",
       "    </tr>\n",
       "    <tr>\n",
       "      <th>2017-01-17</th>\n",
       "      <td>A</td>\n",
       "      <td>48.37</td>\n",
       "      <td>48.715</td>\n",
       "      <td>48.1750</td>\n",
       "      <td>48.32</td>\n",
       "    </tr>\n",
       "  </tbody>\n",
       "</table>\n",
       "</div>"
      ],
      "text/plain": [
       "           ticker   open    high      low  close\n",
       "date                                            \n",
       "2017-01-03      A  45.93  46.750  45.7400  46.49\n",
       "2017-01-04      A  46.93  47.380  46.8162  47.10\n",
       "2017-01-05      A  47.05  47.070  46.3550  46.54\n",
       "2017-01-06      A  46.63  48.070  46.5600  47.99\n",
       "2017-01-09      A  48.01  48.555  47.9050  48.14\n",
       "2017-01-10      A  48.34  48.540  47.8200  48.10\n",
       "2017-01-11      A  48.03  49.480  47.9500  49.25\n",
       "2017-01-12      A  48.90  48.900  47.9800  48.52\n",
       "2017-01-13      A  48.60  48.850  48.4100  48.69\n",
       "2017-01-17      A  48.37  48.715  48.1750  48.32"
      ]
     },
     "execution_count": 9,
     "metadata": {},
     "output_type": "execute_result"
    }
   ],
   "source": [
    "qdf2.head(10)"
   ]
  },
  {
   "cell_type": "markdown",
   "metadata": {},
   "source": [
    "## app.py"
   ]
  },
  {
   "cell_type": "code",
   "execution_count": 28,
   "metadata": {},
   "outputs": [
    {
     "name": "stderr",
     "output_type": "stream",
     "text": [
      " * Running on http://127.0.0.1:33507/ (Press CTRL+C to quit)\n"
     ]
    },
    {
     "name": "stdout",
     "output_type": "stream",
     "text": [
      "[u'AAON', u'A', u'AAPL']\n"
     ]
    },
    {
     "name": "stderr",
     "output_type": "stream",
     "text": [
      "127.0.0.1 - - [21/Mar/2018 17:38:58] \"GET /?nplot=3&ticker%5B0%5D=AAON&ticker%5B1%5D=A&ticker%5B2%5D=AAPL&open=True&ex-dividend=True&split_ratio=True HTTP/1.1\" 200 -\n"
     ]
    },
    {
     "name": "stdout",
     "output_type": "stream",
     "text": [
      "[u'AAON', u'A', u'AAPL']\n"
     ]
    },
    {
     "name": "stderr",
     "output_type": "stream",
     "text": [
      "127.0.0.1 - - [21/Mar/2018 17:39:08] \"GET /?nplot=3&ticker%5B0%5D=AAON&ticker%5B1%5D=A&ticker%5B2%5D=AAPL&open=True&high=True HTTP/1.1\" 200 -\n"
     ]
    }
   ],
   "source": [
    "from flask import Flask, render_template, request, redirect, flash\n",
    "\n",
    "app = Flask(__name__)\n",
    "\n",
    "app.config.from_object('config')\n",
    "\n",
    "@app.route('/')\n",
    "@app.route('/index')\n",
    "def index():\n",
    "    tickers = np.unique(qdf['ticker'])\n",
    "    data_types = [key for key in qdf.keys()]\n",
    "    data_types.pop( data_types.index('ticker') )\n",
    "    \n",
    "    # Determine the number of tickers to plot\n",
    "    nplot = request.args.get(\"nplot\")\n",
    "    init_config = True\n",
    "    if nplot == None:\n",
    "        nplot = 1\n",
    "    else:\n",
    "        nplot = int(nplot)\n",
    "        init_config = False\n",
    "        \n",
    "    # Determine which tickers to plot\n",
    "    tickers2Plot = []\n",
    "    if init_config:\n",
    "        tickers2Plot.append(tickers[0])\n",
    "    else:\n",
    "        for n in xrange(nplot):\n",
    "            val = request.args.get(\"ticker[%d]\"%n)\n",
    "            if val is None:\n",
    "                tickers2Plot.append(tickers[0])\n",
    "            else:\n",
    "                tickers2Plot.append(val)\n",
    "    print tickers2Plot\n",
    "        \n",
    "    # Determine which data types to plot\n",
    "    data2Plot = []\n",
    "    if init_config:\n",
    "        data2Plot.append(data_types[0])\n",
    "    else:\n",
    "        for dt in data_types:\n",
    "            if bool(request.args.get(dt)):\n",
    "                data2Plot.append(dt)\n",
    "        \n",
    "    # Generate the plot\n",
    "    script, div = components(generate_bokeh_plot(qdf,tickers2Plot,data2Plot))        \n",
    "    \n",
    "    return render_template(\"index.html\", nPlotMax=5, nplot=nplot, tickers=tickers, data_types=data_types,\n",
    "                                        tickers2Plot=tickers2Plot, data2Plot=data2Plot, script=script, div=div)\n",
    "\n",
    "\n",
    "if __name__ == '__main__':\n",
    "  app.run(port=33507)"
   ]
  },
  {
   "cell_type": "code",
   "execution_count": 10,
   "metadata": {},
   "outputs": [
    {
     "name": "stdout",
     "output_type": "stream",
     "text": [
      "[u'ticker', u'open', u'high', u'low', u'close', u'volume', u'ex-dividend', u'split_ratio', u'adj_open', u'adj_high', u'adj_low', u'adj_close', u'adj_volume']\n",
      "[u'open', u'high', u'low', u'close', u'volume', u'ex-dividend', u'split_ratio', u'adj_open', u'adj_high', u'adj_low', u'adj_close', u'adj_volume']\n"
     ]
    }
   ],
   "source": [
    " data_types = [key for key in qdf.keys()]\n",
    "print data_types\n",
    "data_types.pop( data_types.index('ticker') )\n",
    "\n",
    "print data_types"
   ]
  }
 ],
 "metadata": {
  "kernelspec": {
   "display_name": "Python 2",
   "language": "python",
   "name": "python2"
  },
  "language_info": {
   "codemirror_mode": {
    "name": "ipython",
    "version": 2
   },
   "file_extension": ".py",
   "mimetype": "text/x-python",
   "name": "python",
   "nbconvert_exporter": "python",
   "pygments_lexer": "ipython2",
   "version": "2.7.14"
  }
 },
 "nbformat": 4,
 "nbformat_minor": 2
}
