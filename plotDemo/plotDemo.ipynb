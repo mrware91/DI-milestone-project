{
 "cells": [
  {
   "cell_type": "markdown",
   "metadata": {},
   "source": [
    "## bokehPlot.py"
   ]
  },
  {
   "cell_type": "code",
   "execution_count": 27,
   "metadata": {},
   "outputs": [
    {
     "name": "stdout",
     "output_type": "stream",
     "text": [
      "quandlData2017 remembered!\n"
     ]
    }
   ],
   "source": [
    "from bokeh.layouts import gridplot\n",
    "from bokeh.plotting import figure, show, output_file\n",
    "from bokeh.embed import components\n",
    "from bokeh.io import output_notebook\n",
    "from bokeh.palettes import Category10\n",
    "\n",
    "import numpy as np\n",
    "import pandas as pd\n",
    "import Picklez\n",
    "\n",
    "# output_notebook()\n",
    "\n",
    "qdf = Picklez.load_obj('quandlData2017')\n",
    "qdf['date'] = qdf['date'].apply(lambda x: pd.to_datetime(x))\n",
    "qdf = qdf.set_index('date')\n",
    "\n",
    "def generate_bokeh_plot(qdf,tickers,data_types):\n",
    "    p1 = figure(title=\"WIKI/PRICES\", toolbar_location=\"right\",background_fill_color=\"#E8DDCB\", x_axis_type=\"datetime\",\n",
    "                logo=None, tools=\"pan,wheel_zoom,box_zoom,reset,save\")\n",
    "\n",
    "    for m, ticker in enumerate(tickers):\n",
    "        for n, data_type in enumerate(data_types):\n",
    "            idxs=qdf['ticker']==ticker\n",
    "            p1.line(qdf.index[idxs],  qdf[idxs][data_type], \n",
    "                    color=Category10[10][n+(n+1)*m], line_width=2, alpha=0.7, \n",
    "                    legend=ticker+':'+data_type)    \n",
    "\n",
    "    p1.legend.location = \"top_left\"\n",
    "    p1.legend.background_fill_color = \"darkgrey\"\n",
    "    p1.xaxis.axis_label = 'time'\n",
    "    p1.yaxis.axis_label = ''\n",
    "    \n",
    "    return p1\n",
    "    \n",
    "# p = generate_bokeh_plot(qdf,['A','Z'],['open','close','high','low'])\n",
    "# show(p)\n"
   ]
  },
  {
   "cell_type": "markdown",
   "metadata": {},
   "source": [
    "## app.py"
   ]
  },
  {
   "cell_type": "code",
   "execution_count": 28,
   "metadata": {},
   "outputs": [
    {
     "name": "stderr",
     "output_type": "stream",
     "text": [
      " * Running on http://127.0.0.1:33507/ (Press CTRL+C to quit)\n"
     ]
    },
    {
     "name": "stdout",
     "output_type": "stream",
     "text": [
      "[u'AAON', u'A', u'AAPL']\n"
     ]
    },
    {
     "name": "stderr",
     "output_type": "stream",
     "text": [
      "127.0.0.1 - - [21/Mar/2018 17:38:58] \"GET /?nplot=3&ticker%5B0%5D=AAON&ticker%5B1%5D=A&ticker%5B2%5D=AAPL&open=True&ex-dividend=True&split_ratio=True HTTP/1.1\" 200 -\n"
     ]
    },
    {
     "name": "stdout",
     "output_type": "stream",
     "text": [
      "[u'AAON', u'A', u'AAPL']\n"
     ]
    },
    {
     "name": "stderr",
     "output_type": "stream",
     "text": [
      "127.0.0.1 - - [21/Mar/2018 17:39:08] \"GET /?nplot=3&ticker%5B0%5D=AAON&ticker%5B1%5D=A&ticker%5B2%5D=AAPL&open=True&high=True HTTP/1.1\" 200 -\n"
     ]
    }
   ],
   "source": [
    "from flask import Flask, render_template, request, redirect, flash\n",
    "\n",
    "app = Flask(__name__)\n",
    "\n",
    "app.config.from_object('config')\n",
    "\n",
    "@app.route('/')\n",
    "@app.route('/index')\n",
    "def index():\n",
    "    tickers = np.unique(qdf['ticker'])\n",
    "    data_types = [key for key in qdf.keys()]\n",
    "    data_types.pop( data_types.index('ticker') )\n",
    "    \n",
    "    # Determine the number of tickers to plot\n",
    "    nplot = request.args.get(\"nplot\")\n",
    "    init_config = True\n",
    "    if nplot == None:\n",
    "        nplot = 1\n",
    "    else:\n",
    "        nplot = int(nplot)\n",
    "        init_config = False\n",
    "        \n",
    "    # Determine which tickers to plot\n",
    "    tickers2Plot = []\n",
    "    if init_config:\n",
    "        tickers2Plot.append(tickers[0])\n",
    "    else:\n",
    "        for n in xrange(nplot):\n",
    "            val = request.args.get(\"ticker[%d]\"%n)\n",
    "            if val is None:\n",
    "                tickers2Plot.append(tickers[0])\n",
    "            else:\n",
    "                tickers2Plot.append(val)\n",
    "    print tickers2Plot\n",
    "        \n",
    "    # Determine which data types to plot\n",
    "    data2Plot = []\n",
    "    if init_config:\n",
    "        data2Plot.append(data_types[0])\n",
    "    else:\n",
    "        for dt in data_types:\n",
    "            if bool(request.args.get(dt)):\n",
    "                data2Plot.append(dt)\n",
    "        \n",
    "    # Generate the plot\n",
    "    script, div = components(generate_bokeh_plot(qdf,tickers2Plot,data2Plot))        \n",
    "    \n",
    "    return render_template(\"index.html\", nPlotMax=5, nplot=nplot, tickers=tickers, data_types=data_types,\n",
    "                                        tickers2Plot=tickers2Plot, data2Plot=data2Plot, script=script, div=div)\n",
    "\n",
    "\n",
    "if __name__ == '__main__':\n",
    "  app.run(port=33507)"
   ]
  },
  {
   "cell_type": "code",
   "execution_count": 10,
   "metadata": {},
   "outputs": [
    {
     "name": "stdout",
     "output_type": "stream",
     "text": [
      "[u'ticker', u'open', u'high', u'low', u'close', u'volume', u'ex-dividend', u'split_ratio', u'adj_open', u'adj_high', u'adj_low', u'adj_close', u'adj_volume']\n",
      "[u'open', u'high', u'low', u'close', u'volume', u'ex-dividend', u'split_ratio', u'adj_open', u'adj_high', u'adj_low', u'adj_close', u'adj_volume']\n"
     ]
    }
   ],
   "source": [
    " data_types = [key for key in qdf.keys()]\n",
    "print data_types\n",
    "data_types.pop( data_types.index('ticker') )\n",
    "\n",
    "print data_types"
   ]
  }
 ],
 "metadata": {
  "kernelspec": {
   "display_name": "Python 2",
   "language": "python",
   "name": "python2"
  },
  "language_info": {
   "codemirror_mode": {
    "name": "ipython",
    "version": 2
   },
   "file_extension": ".py",
   "mimetype": "text/x-python",
   "name": "python",
   "nbconvert_exporter": "python",
   "pygments_lexer": "ipython2",
   "version": "2.7.14"
  }
 },
 "nbformat": 4,
 "nbformat_minor": 2
}
