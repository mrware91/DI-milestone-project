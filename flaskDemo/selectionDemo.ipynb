{
 "cells": [
  {
   "cell_type": "markdown",
   "metadata": {},
   "source": [
    "## app.py"
   ]
  },
  {
   "cell_type": "code",
   "execution_count": 58,
   "metadata": {},
   "outputs": [
    {
     "name": "stderr",
     "output_type": "stream",
     "text": [
      " * Running on http://127.0.0.1:33507/ (Press CTRL+C to quit)\n",
      "127.0.0.1 - - [21/Mar/2018 16:13:48] \"GET /?nplot=1&ticker%5B0%5D=A&C3=True HTTP/1.1\" 200 -\n"
     ]
    },
    {
     "name": "stdout",
     "output_type": "stream",
     "text": [
      "[u'A']\n"
     ]
    },
    {
     "name": "stderr",
     "output_type": "stream",
     "text": [
      "127.0.0.1 - - [21/Mar/2018 16:13:50] \"GET /?nplot=1&ticker%5B0%5D=A&C3=True HTTP/1.1\" 200 -\n"
     ]
    },
    {
     "name": "stdout",
     "output_type": "stream",
     "text": [
      "[u'A']\n"
     ]
    },
    {
     "name": "stderr",
     "output_type": "stream",
     "text": [
      "127.0.0.1 - - [21/Mar/2018 16:13:52] \"GET /?nplot=1&ticker%5B0%5D=A&C3=True HTTP/1.1\" 200 -\n"
     ]
    },
    {
     "name": "stdout",
     "output_type": "stream",
     "text": [
      "[u'A']\n"
     ]
    },
    {
     "name": "stderr",
     "output_type": "stream",
     "text": [
      "127.0.0.1 - - [21/Mar/2018 16:13:54] \"GET /?nplot=2&ticker%5B0%5D=A&C3=True HTTP/1.1\" 200 -\n"
     ]
    },
    {
     "name": "stdout",
     "output_type": "stream",
     "text": [
      "[u'A', 'A']\n"
     ]
    }
   ],
   "source": [
    "from flask import Flask, render_template, request, redirect, flash\n",
    "\n",
    "app = Flask(__name__)\n",
    "\n",
    "app.config.from_object('config')\n",
    "\n",
    "@app.route('/')\n",
    "@app.route('/index')\n",
    "def index():\n",
    "    tickers = ['A','B','C']\n",
    "    data_types = ['A1','B2','C3']\n",
    "    \n",
    "    # Determine the number of tickers to plot\n",
    "    nplot = request.args.get(\"nplot\")\n",
    "    init_config = True\n",
    "    if nplot == None:\n",
    "        nplot = 1\n",
    "    else:\n",
    "        nplot = int(nplot)\n",
    "        init_config = False\n",
    "        \n",
    "    # Determine which tickers to plot\n",
    "    tickers2Plot = []\n",
    "    if init_config:\n",
    "        tickers2Plot.append(tickers[0])\n",
    "    else:\n",
    "        for n in xrange(nplot):\n",
    "            val = request.args.get(\"ticker[%d]\"%n)\n",
    "            if val is None:\n",
    "                tickers2Plot.append(tickers[0])\n",
    "            else:\n",
    "                tickers2Plot.append(val)\n",
    "    print tickers2Plot\n",
    "        \n",
    "    # Determine which data types to plot\n",
    "    data2Plot = []\n",
    "    if init_config:\n",
    "        data2Plot.append(data_types[0])\n",
    "    else:\n",
    "        for dt in data_types:\n",
    "            if bool(request.args.get(dt)):\n",
    "                data2Plot.append(dt)\n",
    "        \n",
    "    return render_template(\"index.html\", nPlotMax=5, nplot=nplot, tickers=tickers, data_types=data_types,\n",
    "                                        tickers2Plot=tickers2Plot, data2Plot=data2Plot)\n",
    "\n",
    "\n",
    "if __name__ == '__main__':\n",
    "  app.run(port=33507)"
   ]
  }
 ],
 "metadata": {
  "kernelspec": {
   "display_name": "Python 2",
   "language": "python",
   "name": "python2"
  },
  "language_info": {
   "codemirror_mode": {
    "name": "ipython",
    "version": 2
   },
   "file_extension": ".py",
   "mimetype": "text/x-python",
   "name": "python",
   "nbconvert_exporter": "python",
   "pygments_lexer": "ipython2",
   "version": "2.7.14"
  }
 },
 "nbformat": 4,
 "nbformat_minor": 2
}
