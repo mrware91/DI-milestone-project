{
 "cells": [
  {
   "cell_type": "markdown",
   "metadata": {},
   "source": []
  },
  {
   "cell_type": "code",
   "execution_count": null,
   "metadata": {
    "collapsed": true
   },
   "outputs": [],
   "source": []
  },
  {
   "cell_type": "markdown",
   "metadata": {},
   "source": [
    "## forms.py"
   ]
  },
  {
   "cell_type": "code",
   "execution_count": 7,
   "metadata": {},
   "outputs": [],
   "source": [
    "from flask_wtf import Form\n",
    "from wtforms import StringField, BooleanField\n",
    "from wtforms.validators import DataRequired\n",
    "\n",
    "class LoginForm(Form):\n",
    "    openid = StringField('openid', validators=[DataRequired()])\n",
    "    remember_me = BooleanField('remember_me', default=False)"
   ]
  },
  {
   "cell_type": "markdown",
   "metadata": {},
   "source": [
    "## app.py"
   ]
  },
  {
   "cell_type": "code",
   "execution_count": 11,
   "metadata": {},
   "outputs": [
    {
     "name": "stderr",
     "output_type": "stream",
     "text": [
      " * Running on http://127.0.0.1:33507/ (Press CTRL+C to quit)\n",
      "C:\\Users\\mrwar\\Anaconda2\\lib\\site-packages\\ipykernel_launcher.py:28: FlaskWTFDeprecationWarning: \"flask_wtf.Form\" has been renamed to \"FlaskForm\" and will be removed in 1.0.\n",
      "127.0.0.1 - - [21/Mar/2018 14:12:16] \"GET /login HTTP/1.1\" 200 -\n",
      "C:\\Users\\mrwar\\Anaconda2\\lib\\site-packages\\ipykernel_launcher.py:28: FlaskWTFDeprecationWarning: \"flask_wtf.Form\" has been renamed to \"FlaskForm\" and will be removed in 1.0.\n",
      "127.0.0.1 - - [21/Mar/2018 14:12:19] \"POST /login HTTP/1.1\" 302 -\n",
      "127.0.0.1 - - [21/Mar/2018 14:12:19] \"GET /index HTTP/1.1\" 200 -\n"
     ]
    },
    {
     "name": "stdout",
     "output_type": "stream",
     "text": [
      "redirecting to index\n"
     ]
    }
   ],
   "source": [
    "from flask import Flask, render_template, request, redirect, flash\n",
    "\n",
    "app = Flask(__name__)\n",
    "\n",
    "app.config.from_object('config')\n",
    "\n",
    "@app.route('/')\n",
    "@app.route('/index')\n",
    "def index():\n",
    "    user = {'nickname': 'Miguel'}  # fake user\n",
    "    posts = [  # fake array of posts\n",
    "        { \n",
    "            'author': {'nickname': 'John'}, \n",
    "            'body': 'Beautiful day in Portland!' \n",
    "        },\n",
    "        { \n",
    "            'author': {'nickname': 'Susan'}, \n",
    "            'body': 'The Avengers movie was so cool!' \n",
    "        }\n",
    "    ]\n",
    "    return render_template(\"index.html\",\n",
    "                           title='Home',\n",
    "                           user=user,\n",
    "                           posts=posts)\n",
    "\n",
    "@app.route('/login', methods=['GET', 'POST'])\n",
    "def login():\n",
    "    form = LoginForm()\n",
    "    if form.validate_on_submit():\n",
    "        flash('Login requested for OpenID=\"%s\", remember_me=%s' %\n",
    "              (form.openid.data, str(form.remember_me.data)))\n",
    "        print 'redirecting to index'\n",
    "        return redirect('/index')\n",
    "    return render_template('login.html', \n",
    "                           title='Sign In',\n",
    "                           form=form)\n",
    "\n",
    "\n",
    "if __name__ == '__main__':\n",
    "  app.run(port=33507)"
   ]
  },
  {
   "cell_type": "code",
   "execution_count": null,
   "metadata": {
    "collapsed": true
   },
   "outputs": [],
   "source": []
  }
 ],
 "metadata": {
  "kernelspec": {
   "display_name": "Python 2",
   "language": "python",
   "name": "python2"
  },
  "language_info": {
   "codemirror_mode": {
    "name": "ipython",
    "version": 2
   },
   "file_extension": ".py",
   "mimetype": "text/x-python",
   "name": "python",
   "nbconvert_exporter": "python",
   "pygments_lexer": "ipython2",
   "version": "2.7.14"
  }
 },
 "nbformat": 4,
 "nbformat_minor": 2
}
